{
  "cells": [
    {
      "cell_type": "code",
      "execution_count": null,
      "id": "ef8efd7c",
      "metadata": {
        "id": "ef8efd7c"
      },
      "outputs": [],
      "source": [
        "import pandas as pd\n",
        "import numpy as np\n",
        "import tensorflow as tf\n",
        "import time\n",
        "from tensorflow.keras.models import Sequential\n",
        "from tensorflow.keras.layers import Dense\n",
        "from tensorflow.keras.layers import LSTM\n",
        "from tensorflow.keras.optimizers import RMSprop\n",
        "import numpy as np\n",
        "import random\n",
        "import os"
      ]
    },
    {
      "cell_type": "code",
      "execution_count": null,
      "id": "bcef353c",
      "metadata": {
        "id": "bcef353c"
      },
      "outputs": [],
      "source": [
        "step_length = 1    # The step length we take to get our samples from our corpus\n",
        "epochs = 50       # Number of times we train on our full data\n",
        "batch_size = 32    # Data samples in each training step\n",
        "latent_dim = 64    # Size of our LSTM\n",
        "dropout_rate = 0.2 # Regularization with dropout\n",
        "model_path = os.path.realpath('./poke_gen_model.h5') # Location for the model\n",
        "load_model = False # Enable loading model from disk\n",
        "store_model = True # Store model to disk after training\n",
        "verbosity = 1      # Print result for each epoch\n",
        "gen_amount = 10    # How many "
      ]
    },
    {
      "cell_type": "code",
      "execution_count": null,
      "id": "deb670bc",
      "metadata": {
        "id": "deb670bc",
        "outputId": "ab38223b-00a4-4ec3-82c3-d3cf345da77d"
      },
      "outputs": [
        {
          "name": "stdout",
          "output_type": "stream",
          "text": [
            "Reading names from file:\n",
            "Abbas\n",
            "Abbey\n",
            "Abbott\n",
            "Abdi\n",
            "Abel\n",
            "Abraham\n",
            "Abrahams\n",
            "Abrams\n",
            "Ackary\n",
            "Ackroyd\n",
            "...\n"
          ]
        }
      ],
      "source": [
        "input_path = os.path.realpath('names.txt')\n",
        "\n",
        "input_names = []\n",
        "\n",
        "print('Reading names from file:')\n",
        "with open(input_path) as f:\n",
        "    for name in f:\n",
        "        name = name.rstrip()\n",
        "        if len(input_names) < 10:\n",
        "            print(name)\n",
        "        input_names.append(name)\n",
        "    print('...')"
      ]
    },
    {
      "cell_type": "code",
      "execution_count": null,
      "id": "8a6b1c90",
      "metadata": {
        "id": "8a6b1c90",
        "outputId": "f37d34b4-a947-43bd-b674-687ba03d7667"
      },
      "outputs": [
        {
          "name": "stdout",
          "output_type": "stream",
          "text": [
            "Total chars: 28\n",
            "Corpus length: 27124\n",
            "Number of names:  3668\n",
            "Longest name:  14\n"
          ]
        }
      ],
      "source": [
        "# Make it all to a long string\n",
        "concat_names = '\\n'.join(input_names).lower()\n",
        "\n",
        "# Find all unique characters by using set()\n",
        "chars = sorted(list(set(concat_names)))\n",
        "num_chars = len(chars)\n",
        "\n",
        "# Build translation dictionaries, 'a' -> 0, 0 -> 'a'\n",
        "char2idx = dict((c, i) for i, c in enumerate(chars))\n",
        "idx2char = dict((i, c) for i, c in enumerate(chars))\n",
        "\n",
        "# Use longest name length as our sequence window\n",
        "max_sequence_length = max([len(name) for name in input_names])\n",
        "\n",
        "print('Total chars: {}'.format(num_chars))\n",
        "print('Corpus length:', len(concat_names))\n",
        "print('Number of names: ', len(input_names))\n",
        "print('Longest name: ', max_sequence_length)"
      ]
    },
    {
      "cell_type": "code",
      "execution_count": null,
      "id": "6d18a808",
      "metadata": {
        "id": "6d18a808",
        "outputId": "d599eeed-ac84-49ce-da94-2e9a390ba37f"
      },
      "outputs": [
        {
          "name": "stdout",
          "output_type": "stream",
          "text": [
            "Number of sequences: 27110\n",
            "First 10 sequences and next chars:\n",
            "X=[abbas abbey ab]   y=[b]\n",
            "X=[bbas abbey abb]   y=[o]\n",
            "X=[bas abbey abbo]   y=[t]\n",
            "X=[as abbey abbot]   y=[t]\n",
            "X=[s abbey abbott]   y=[ ]\n",
            "X=[ abbey abbott ]   y=[a]\n",
            "X=[abbey abbott a]   y=[b]\n",
            "X=[bbey abbott ab]   y=[d]\n",
            "X=[bey abbott abd]   y=[i]\n",
            "X=[ey abbott abdi]   y=[ ]\n"
          ]
        }
      ],
      "source": [
        "sequences = []\n",
        "next_chars = []\n",
        "\n",
        "# Loop over our data and extract pairs of sequances and next chars\n",
        "for i in range(0, len(concat_names) - max_sequence_length, step_length):\n",
        "    sequences.append(concat_names[i: i + max_sequence_length])\n",
        "    next_chars.append(concat_names[i + max_sequence_length])\n",
        "\n",
        "num_sequences = len(sequences)\n",
        "\n",
        "print('Number of sequences:', num_sequences)\n",
        "print('First 10 sequences and next chars:')\n",
        "for i in range(10):\n",
        "    print('X=[{}]   y=[{}]'.replace('\\n', ' ').format(sequences[i], next_chars[i]).replace('\\n', ' '))"
      ]
    },
    {
      "cell_type": "code",
      "execution_count": null,
      "id": "6fe2cea1",
      "metadata": {
        "id": "6fe2cea1",
        "outputId": "144f21b3-ab3c-4148-ad76-db1a21d04323"
      },
      "outputs": [
        {
          "name": "stdout",
          "output_type": "stream",
          "text": [
            "X shape: (27110, 14, 28)\n",
            "Y shape: (27110, 28)\n"
          ]
        },
        {
          "name": "stderr",
          "output_type": "stream",
          "text": [
            "<ipython-input-18-4e755f62cb62>:1: DeprecationWarning: `np.bool` is a deprecated alias for the builtin `bool`. To silence this warning, use `bool` by itself. Doing this will not modify any behavior and is safe. If you specifically wanted the numpy scalar type, use `np.bool_` here.\n",
            "Deprecated in NumPy 1.20; for more details and guidance: https://numpy.org/devdocs/release/1.20.0-notes.html#deprecations\n",
            "  X = np.zeros((num_sequences, max_sequence_length, num_chars), dtype=np.bool)\n",
            "<ipython-input-18-4e755f62cb62>:2: DeprecationWarning: `np.bool` is a deprecated alias for the builtin `bool`. To silence this warning, use `bool` by itself. Doing this will not modify any behavior and is safe. If you specifically wanted the numpy scalar type, use `np.bool_` here.\n",
            "Deprecated in NumPy 1.20; for more details and guidance: https://numpy.org/devdocs/release/1.20.0-notes.html#deprecations\n",
            "  Y = np.zeros((num_sequences, num_chars), dtype=np.bool)\n"
          ]
        }
      ],
      "source": [
        "X = np.zeros((num_sequences, max_sequence_length, num_chars), dtype=np.bool)\n",
        "Y = np.zeros((num_sequences, num_chars), dtype=np.bool)\n",
        "\n",
        "for i, sequence in enumerate(sequences):\n",
        "    for j, char in enumerate(sequence):\n",
        "        X[i, j, char2idx[char]] = 1\n",
        "    Y[i, char2idx[next_chars[i]]] = 1\n",
        "    \n",
        "print('X shape: {}'.format(X.shape))\n",
        "print('Y shape: {}'.format(Y.shape))"
      ]
    },
    {
      "cell_type": "code",
      "execution_count": null,
      "id": "9c9c62e9",
      "metadata": {
        "id": "9c9c62e9",
        "outputId": "defce3a0-6c2c-47a4-e221-a6a167706c31"
      },
      "outputs": [
        {
          "name": "stdout",
          "output_type": "stream",
          "text": [
            "Model: \"sequential_1\"\n",
            "_________________________________________________________________\n",
            " Layer (type)                Output Shape              Param #   \n",
            "=================================================================\n",
            " lstm_1 (LSTM)               (None, 64)                23808     \n",
            "                                                                 \n",
            " dense_1 (Dense)             (None, 28)                1820      \n",
            "                                                                 \n",
            "=================================================================\n",
            "Total params: 25,628\n",
            "Trainable params: 25,628\n",
            "Non-trainable params: 0\n",
            "_________________________________________________________________\n"
          ]
        }
      ],
      "source": [
        "model = Sequential()\n",
        "model.add(LSTM(latent_dim, \n",
        "               input_shape=(max_sequence_length, num_chars),  \n",
        "               recurrent_dropout=dropout_rate))\n",
        "model.add(Dense(units=num_chars, activation='softmax'))\n",
        "\n",
        "optimizer = RMSprop(lr=0.01)\n",
        "model.compile(loss='categorical_crossentropy',\n",
        "              optimizer=optimizer)\n",
        "\n",
        "model.summary()"
      ]
    },
    {
      "cell_type": "code",
      "execution_count": null,
      "id": "e71defcc",
      "metadata": {
        "id": "e71defcc",
        "outputId": "f81c02f4-0444-4635-a926-c4a516188c57"
      },
      "outputs": [
        {
          "name": "stdout",
          "output_type": "stream",
          "text": [
            "Start training for 100 epochs\n",
            "Epoch 1/100\n",
            "848/848 [==============================] - 8s 8ms/step - loss: 2.2467\n",
            "Epoch 2/100\n",
            "848/848 [==============================] - 7s 8ms/step - loss: 1.7138\n",
            "Epoch 3/100\n",
            "848/848 [==============================] - 7s 8ms/step - loss: 1.4893\n",
            "Epoch 4/100\n",
            "848/848 [==============================] - 9s 10ms/step - loss: 1.3883\n",
            "Epoch 5/100\n",
            "848/848 [==============================] - 9s 10ms/step - loss: 1.3306\n",
            "Epoch 6/100\n",
            "848/848 [==============================] - 9s 11ms/step - loss: 1.2956\n",
            "Epoch 7/100\n",
            "848/848 [==============================] - 9s 10ms/step - loss: 1.2681\n",
            "Epoch 8/100\n",
            "848/848 [==============================] - 9s 10ms/step - loss: 1.2485\n",
            "Epoch 9/100\n",
            "848/848 [==============================] - 9s 11ms/step - loss: 1.2288\n",
            "Epoch 10/100\n",
            "848/848 [==============================] - 11s 13ms/step - loss: 1.2131\n",
            "Epoch 11/100\n",
            "848/848 [==============================] - 12s 14ms/step - loss: 1.1971\n",
            "Epoch 12/100\n",
            "848/848 [==============================] - 11s 13ms/step - loss: 1.1864\n",
            "Epoch 13/100\n",
            "848/848 [==============================] - 11s 13ms/step - loss: 1.1792\n",
            "Epoch 14/100\n",
            "848/848 [==============================] - 10s 12ms/step - loss: 1.1654\n",
            "Epoch 15/100\n",
            "848/848 [==============================] - 10s 11ms/step - loss: 1.1545\n",
            "Epoch 16/100\n",
            "848/848 [==============================] - 9s 11ms/step - loss: 1.1546\n",
            "Epoch 17/100\n",
            "848/848 [==============================] - 9s 11ms/step - loss: 1.1394\n",
            "Epoch 18/100\n",
            "848/848 [==============================] - 9s 11ms/step - loss: 1.1400\n",
            "Epoch 19/100\n",
            "848/848 [==============================] - 9s 11ms/step - loss: 1.1321\n",
            "Epoch 20/100\n",
            "848/848 [==============================] - 9s 11ms/step - loss: 1.1273\n",
            "Epoch 21/100\n",
            "848/848 [==============================] - 9s 10ms/step - loss: 1.1212\n",
            "Epoch 22/100\n",
            "848/848 [==============================] - 9s 10ms/step - loss: 1.1159\n",
            "Epoch 23/100\n",
            "848/848 [==============================] - 9s 11ms/step - loss: 1.1124\n",
            "Epoch 24/100\n",
            "848/848 [==============================] - 9s 10ms/step - loss: 1.1061\n",
            "Epoch 25/100\n",
            "848/848 [==============================] - 9s 10ms/step - loss: 1.1006\n",
            "Epoch 26/100\n",
            "848/848 [==============================] - 9s 10ms/step - loss: 1.0967\n",
            "Epoch 27/100\n",
            "848/848 [==============================] - 9s 10ms/step - loss: 1.0930\n",
            "Epoch 28/100\n",
            "848/848 [==============================] - 9s 10ms/step - loss: 1.0888\n",
            "Epoch 29/100\n",
            "848/848 [==============================] - 9s 10ms/step - loss: 1.0862\n",
            "Epoch 30/100\n",
            "848/848 [==============================] - 9s 11ms/step - loss: 1.0887\n",
            "Epoch 31/100\n",
            "848/848 [==============================] - 9s 11ms/step - loss: 1.0833\n",
            "Epoch 32/100\n",
            "848/848 [==============================] - 9s 11ms/step - loss: 1.0808\n",
            "Epoch 33/100\n",
            "848/848 [==============================] - 9s 11ms/step - loss: 1.0823\n",
            "Epoch 34/100\n",
            "848/848 [==============================] - 9s 11ms/step - loss: 1.0825\n",
            "Epoch 35/100\n",
            "848/848 [==============================] - 9s 11ms/step - loss: 1.0753\n",
            "Epoch 36/100\n",
            "848/848 [==============================] - 9s 11ms/step - loss: 1.0710\n",
            "Epoch 37/100\n",
            "848/848 [==============================] - 9s 11ms/step - loss: 1.0659\n",
            "Epoch 38/100\n",
            "848/848 [==============================] - 9s 11ms/step - loss: 1.0646\n",
            "Epoch 39/100\n",
            "848/848 [==============================] - 9s 11ms/step - loss: 1.0667\n",
            "Epoch 40/100\n",
            "848/848 [==============================] - 9s 11ms/step - loss: 1.0677\n",
            "Epoch 41/100\n",
            "848/848 [==============================] - 9s 11ms/step - loss: 1.0617\n",
            "Epoch 42/100\n",
            "848/848 [==============================] - 9s 11ms/step - loss: 1.0591\n",
            "Epoch 43/100\n",
            "848/848 [==============================] - 9s 11ms/step - loss: 1.0551\n",
            "Epoch 44/100\n",
            "848/848 [==============================] - 9s 11ms/step - loss: 1.0616\n",
            "Epoch 45/100\n",
            "848/848 [==============================] - 9s 11ms/step - loss: 1.0521\n",
            "Epoch 46/100\n",
            "848/848 [==============================] - 9s 11ms/step - loss: 1.0560\n",
            "Epoch 47/100\n",
            "848/848 [==============================] - 10s 12ms/step - loss: 1.0567\n",
            "Epoch 48/100\n",
            "848/848 [==============================] - 9s 11ms/step - loss: 1.0527\n",
            "Epoch 49/100\n",
            "848/848 [==============================] - 9s 11ms/step - loss: 1.0523\n",
            "Epoch 50/100\n",
            "848/848 [==============================] - 9s 11ms/step - loss: 1.0508\n",
            "Epoch 51/100\n",
            "848/848 [==============================] - 10s 11ms/step - loss: 1.0460\n",
            "Epoch 52/100\n",
            "848/848 [==============================] - 9s 11ms/step - loss: 1.0469\n",
            "Epoch 53/100\n",
            "848/848 [==============================] - 9s 11ms/step - loss: 1.0392\n",
            "Epoch 54/100\n",
            "848/848 [==============================] - 9s 11ms/step - loss: 1.0440\n",
            "Epoch 55/100\n",
            "848/848 [==============================] - 9s 10ms/step - loss: 1.0507\n",
            "Epoch 56/100\n",
            "848/848 [==============================] - 8s 10ms/step - loss: 1.0441\n",
            "Epoch 57/100\n",
            "848/848 [==============================] - 9s 10ms/step - loss: 1.0415\n",
            "Epoch 58/100\n",
            "848/848 [==============================] - 9s 10ms/step - loss: 1.0409\n",
            "Epoch 59/100\n",
            "848/848 [==============================] - 9s 10ms/step - loss: 1.0386\n",
            "Epoch 60/100\n",
            "848/848 [==============================] - 9s 10ms/step - loss: 1.0382\n",
            "Epoch 61/100\n",
            "848/848 [==============================] - 9s 10ms/step - loss: 1.0380\n",
            "Epoch 62/100\n",
            "848/848 [==============================] - 9s 11ms/step - loss: 1.0341\n",
            "Epoch 63/100\n",
            "848/848 [==============================] - 11s 12ms/step - loss: 1.0337\n",
            "Epoch 64/100\n",
            "848/848 [==============================] - 11s 12ms/step - loss: 1.0346\n",
            "Epoch 65/100\n",
            "848/848 [==============================] - 10s 12ms/step - loss: 1.0301\n",
            "Epoch 66/100\n",
            "848/848 [==============================] - 10s 12ms/step - loss: 1.0324\n",
            "Epoch 67/100\n",
            "848/848 [==============================] - 10s 11ms/step - loss: 1.0293\n",
            "Epoch 68/100\n",
            "848/848 [==============================] - 9s 11ms/step - loss: 1.0296\n",
            "Epoch 69/100\n",
            "848/848 [==============================] - 9s 11ms/step - loss: 1.0249\n",
            "Epoch 70/100\n",
            "848/848 [==============================] - 9s 11ms/step - loss: 1.0253\n",
            "Epoch 71/100\n",
            "848/848 [==============================] - 9s 10ms/step - loss: 1.0272\n",
            "Epoch 72/100\n",
            "848/848 [==============================] - 9s 10ms/step - loss: 1.0298\n",
            "Epoch 73/100\n",
            "848/848 [==============================] - 9s 11ms/step - loss: 1.0267\n",
            "Epoch 74/100\n",
            "848/848 [==============================] - 9s 11ms/step - loss: 1.0215\n",
            "Epoch 75/100\n",
            "848/848 [==============================] - 10s 11ms/step - loss: 1.0254\n",
            "Epoch 76/100\n",
            "848/848 [==============================] - 10s 11ms/step - loss: 1.0242\n",
            "Epoch 77/100\n",
            "848/848 [==============================] - 9s 10ms/step - loss: 1.0173\n",
            "Epoch 78/100\n",
            "848/848 [==============================] - 9s 10ms/step - loss: 1.0171\n",
            "Epoch 79/100\n",
            "848/848 [==============================] - 9s 10ms/step - loss: 1.0227\n",
            "Epoch 80/100\n",
            "848/848 [==============================] - 9s 11ms/step - loss: 1.0188\n",
            "Epoch 81/100\n",
            "848/848 [==============================] - 9s 11ms/step - loss: 1.0150\n",
            "Epoch 82/100\n",
            "848/848 [==============================] - 9s 11ms/step - loss: 1.0191\n",
            "Epoch 83/100\n",
            "848/848 [==============================] - 9s 11ms/step - loss: 1.0129\n",
            "Epoch 84/100\n",
            "848/848 [==============================] - 9s 11ms/step - loss: 1.0217\n",
            "Epoch 85/100\n",
            "848/848 [==============================] - 9s 11ms/step - loss: 1.0155\n",
            "Epoch 86/100\n",
            "848/848 [==============================] - 9s 11ms/step - loss: 1.0149\n",
            "Epoch 87/100\n",
            "848/848 [==============================] - 9s 11ms/step - loss: 1.0133\n",
            "Epoch 88/100\n",
            "848/848 [==============================] - 9s 10ms/step - loss: 1.0107\n",
            "Epoch 89/100\n",
            "848/848 [==============================] - 9s 11ms/step - loss: 1.0074\n",
            "Epoch 90/100\n",
            "848/848 [==============================] - 9s 11ms/step - loss: 1.0116\n",
            "Epoch 91/100\n",
            "848/848 [==============================] - 10s 11ms/step - loss: 1.0134\n",
            "Epoch 92/100\n",
            "848/848 [==============================] - 10s 11ms/step - loss: 1.0074\n",
            "Epoch 93/100\n",
            "848/848 [==============================] - 10s 12ms/step - loss: 1.0077\n",
            "Epoch 94/100\n",
            "848/848 [==============================] - 9s 11ms/step - loss: 1.0069\n",
            "Epoch 95/100\n",
            "848/848 [==============================] - 9s 11ms/step - loss: 1.0087\n",
            "Epoch 96/100\n",
            "848/848 [==============================] - 9s 11ms/step - loss: 1.0119\n",
            "Epoch 97/100\n",
            "848/848 [==============================] - 9s 11ms/step - loss: 1.0072\n",
            "Epoch 98/100\n"
          ]
        },
        {
          "name": "stdout",
          "output_type": "stream",
          "text": [
            "848/848 [==============================] - 10s 11ms/step - loss: 1.0053\n",
            "Epoch 99/100\n",
            "848/848 [==============================] - 10s 11ms/step - loss: 1.0035\n",
            "Epoch 100/100\n",
            "848/848 [==============================] - 10s 12ms/step - loss: 1.0030\n",
            "Finished training - time elapsed: 15.349590941270192 min\n",
            "Storing model at: /home/haris/Documents/LSTM/poke_gen_model.h5\n"
          ]
        }
      ],
      "source": [
        "if load_model:\n",
        "    model.load_weights(model_path)\n",
        "else:\n",
        "    \n",
        "    start = time.time()\n",
        "    print('Start training for {} epochs'.format(epochs))\n",
        "    history = model.fit(X, Y, epochs=epochs, batch_size=batch_size, verbose=verbosity)\n",
        "    end = time.time()\n",
        "    print('Finished training - time elapsed:', (end - start)/60, 'min')\n",
        "    \n",
        "if store_model:\n",
        "    print('Storing model at:', model_path)\n",
        "    model.save(model_path)"
      ]
    },
    {
      "cell_type": "code",
      "execution_count": null,
      "id": "b0ce4c82",
      "metadata": {
        "id": "b0ce4c82",
        "outputId": "95512e87-061a-48d7-8359-052fe070ae46"
      },
      "outputs": [
        {
          "name": "stdout",
          "output_type": "stream",
          "text": [
            "10 new names are being generated\n",
            "Generated 1\n",
            "Generated 2\n",
            "Generated 3\n",
            "Generated 4\n",
            "Generated 5\n",
            "Generated 6\n",
            "Generated 7\n",
            "Generated 8\n",
            "Generated 9\n",
            "Generated 10\n"
          ]
        }
      ],
      "source": [
        "# Start sequence generation from end of the input sequence\n",
        "sequence = concat_names[-(max_sequence_length - 1):] + '\\n'\n",
        "\n",
        "new_names = []\n",
        "\n",
        "print('{} new names are being generated'.format(gen_amount))\n",
        "\n",
        "while len(new_names) < gen_amount:\n",
        "    \n",
        "    # Vectorize sequence for prediction\n",
        "    x = np.zeros((1, max_sequence_length, num_chars))\n",
        "    for i, char in enumerate(sequence):\n",
        "        x[0, i, char2idx[char]] = 1\n",
        "\n",
        "    # Sample next char from predicted probabilities\n",
        "    probs = model.predict(x, verbose=0)[0]\n",
        "    probs /= probs.sum()\n",
        "    next_idx = np.random.choice(len(probs), p=probs)   \n",
        "    next_char = idx2char[next_idx]   \n",
        "    sequence = sequence[1:] + next_char\n",
        "\n",
        "    # New line means we have a new name\n",
        "    if next_char == '\\n':\n",
        "\n",
        "        gen_name = [name for name in sequence.split('\\n')][1]\n",
        "\n",
        "        # Never start name with two identical chars, could probably also\n",
        "        if len(gen_name) > 2 and gen_name[0] == gen_name[1]:\n",
        "            gen_name = gen_name[1:]\n",
        "\n",
        "        # Discard all names that are too short\n",
        "        if len(gen_name) > 2:\n",
        "            \n",
        "            # Only allow new and unique names\n",
        "            if gen_name not in input_names + new_names:\n",
        "                new_names.append(gen_name.capitalize())\n",
        "\n",
        "        if 0 == (len(new_names) % (gen_amount/ 10)):\n",
        "            print('Generated {}'.format(len(new_names)))"
      ]
    },
    {
      "cell_type": "code",
      "execution_count": null,
      "id": "d1dcf118",
      "metadata": {
        "id": "d1dcf118",
        "outputId": "532db196-3681-40b3-df17-7832c833bbff"
      },
      "outputs": [
        {
          "name": "stdout",
          "output_type": "stream",
          "text": [
            "First 10 generated names:\n",
            "Zaoui\n",
            "Palner\n",
            "Palner\n",
            "Pane\n",
            "Panrett\n",
            "Panm\n",
            "Parner\n",
            "Parrey\n",
            "Parrett\n",
            "Parrison\n"
          ]
        }
      ],
      "source": [
        "print_first_n = min(10, gen_amount)\n",
        "\n",
        "print('First {} generated names:'.format(print_first_n))\n",
        "for name in new_names[:print_first_n]:\n",
        "    print(name)\n"
      ]
    },
    {
      "cell_type": "code",
      "execution_count": null,
      "id": "6bc14cd3",
      "metadata": {
        "id": "6bc14cd3"
      },
      "outputs": [],
      "source": []
    }
  ],
  "metadata": {
    "kernelspec": {
      "display_name": "Python 3",
      "language": "python",
      "name": "python3"
    },
    "language_info": {
      "codemirror_mode": {
        "name": "ipython",
        "version": 3
      },
      "file_extension": ".py",
      "mimetype": "text/x-python",
      "name": "python",
      "nbconvert_exporter": "python",
      "pygments_lexer": "ipython3",
      "version": "3.8.8"
    },
    "colab": {
      "provenance": []
    }
  },
  "nbformat": 4,
  "nbformat_minor": 5
}